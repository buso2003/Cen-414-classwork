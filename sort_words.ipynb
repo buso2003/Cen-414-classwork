{
 "cells": [
  {
   "cell_type": "code",
   "execution_count": 7,
   "id": "5d6fcb9f-05ca-4812-83dd-5bcc5379ce84",
   "metadata": {},
   "outputs": [],
   "source": [
    "my_list = [\"dog\", \"cat\", \"elephant\", \"zebra\", \"bee\", \"fish\", \"dolphin\"]\n",
    "my_list = list(map(lambda x: x.lower(), my_list))"
   ]
  },
  {
   "cell_type": "code",
   "execution_count": 8,
   "id": "83e665fd-63e6-48f2-9344-f6be36807192",
   "metadata": {},
   "outputs": [],
   "source": [
    "def rearrange(items):\n",
    "        for passno in range(len(items) - 1):\n",
    "            for idx in range(len(items) - 1):\n",
    "                if items[idx] > items[idx+1]:\n",
    "                    items[idx], items[idx+1] = items[idx+1], items[idx]\n",
    "        return items"
   ]
  },
  {
   "cell_type": "code",
   "execution_count": 9,
   "id": "34bb7bb9-957f-4392-8e01-87f1d73956eb",
   "metadata": {},
   "outputs": [
    {
     "name": "stdout",
     "output_type": "stream",
     "text": [
      "['bee', 'cat', 'dog', 'dolphin', 'elephant', 'fish', 'zebra']\n"
     ]
    }
   ],
   "source": [
    "rearranged = rearrange(my_list)\n",
    "print(rearranged)"
   ]
  },
  {
   "cell_type": "code",
   "execution_count": 10,
   "id": "9766e84a-43c6-45f0-b403-f3930d6fb9e0",
   "metadata": {},
   "outputs": [
    {
     "name": "stdout",
     "output_type": "stream",
     "text": [
      "['zebra', 'fish', 'elephant', 'dolphin', 'dog', 'cat', 'bee']\n"
     ]
    }
   ],
   "source": [
    "print(rearranged[::-1])"
   ]
  },
  {
   "cell_type": "code",
   "execution_count": 11,
   "id": "bebf1152-1dca-45a1-8793-fc52ca91c90a",
   "metadata": {},
   "outputs": [],
   "source": [
    "# import string\n",
    "# LETTERS = list(string.ascii_lowercase) \n",
    "# def rearrange(items: list):\n",
    "#     for passno in range(len(items) - 1):\n",
    "#         for idx in range(len(items) - 1):\n",
    "#             loop = True\n",
    "#             position = 0\n",
    "#             while loop and position < len(items[idx]):\n",
    "#                 try:\n",
    "#                     LETTERS.index((items[idx][position])) > LETTERS.index((items[idx+1][position]))\n",
    "#                 except IndexError:\n",
    "#                     loop = False\n",
    "#                     items[idx], items[idx + 1] = items[idx + 1], items[idx]\n",
    "#                 if LETTERS.index((items[idx][position])) > LETTERS.index((items[idx+1][position])):\n",
    "#                     loop = False\n",
    "#                     items[idx], items[idx+1] = items[idx+1], items[idx]\n",
    "#                 elif LETTERS.index((items[idx][position])) < LETTERS.index((items[idx+1][position])):\n",
    "#                     loop = False\n",
    "#                 position += 1\n",
    "#     return items\n",
    "# str1 = \"I am a boy\"\n",
    "# count = 0\n",
    "# for char in str1:\n",
    "#     if char == \" \":\n",
    "#         count += 1\n",
    "# my_arr = str1.split(\" \")\n",
    "# len(my_arr)+count"
   ]
  }
 ],
 "metadata": {
  "kernelspec": {
   "display_name": "Python 3 (ipykernel)",
   "language": "python",
   "name": "python3"
  },
  "language_info": {
   "codemirror_mode": {
    "name": "ipython",
    "version": 3
   },
   "file_extension": ".py",
   "mimetype": "text/x-python",
   "name": "python",
   "nbconvert_exporter": "python",
   "pygments_lexer": "ipython3",
   "version": "3.10.5"
  }
 },
 "nbformat": 4,
 "nbformat_minor": 5
}
